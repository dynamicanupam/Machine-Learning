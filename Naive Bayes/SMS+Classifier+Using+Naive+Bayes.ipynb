{
  "cells": [
    {
      "cell_type": "markdown",
      "source": [
        "# SMS Spam Classifier using Naive Bayes"
      ],
      "metadata": {
        "id": "cStZfq3CSJkX"
      }
    },
    {
      "cell_type": "markdown",
      "source": [
        "The notebook is divided into the following sections:\n",
        "1. Importing and preprocessing data\n",
        "2. Building the model: Multinomial Naive Bayes\n",
        "    - Model building\n",
        "    - Model evaluation"
      ],
      "metadata": {
        "id": "Ll-28gW3SEO_"
      }
    },
    {
      "cell_type": "markdown",
      "source": [
        "We will be using a dataset from the UCI Machine Learning repository which has a very good collection of datasets for experimental research purposes. The direct data link is https://archive.ics.uci.edu/dataset/228/sms+spam+collection\n",
        "\n"
      ],
      "metadata": {
        "id": "rLcMOIgtTgzX"
      }
    },
    {
      "cell_type": "markdown",
      "metadata": {
        "id": "ZxND7bJZdUFb"
      },
      "source": [
        "### 1. Importing and Preprocessing Data"
      ]
    },
    {
      "cell_type": "code",
      "source": [
        "import pandas as pd\n",
        "import numpy as np\n",
        "import seaborn as sns\n",
        "import matplotlib.pyplot as plt\n",
        "import warnings\n",
        "warnings.filterwarnings('ignore')\n",
        "\n",
        "# sklearn\n",
        "from sklearn.svm import LinearSVC\n",
        "from sklearn.naive_bayes import BernoulliNB\n",
        "from sklearn.linear_model import LogisticRegression\n",
        "\n",
        "from sklearn.model_selection import train_test_split\n",
        "from sklearn.metrics import confusion_matrix, classification_report, roc_auc_score, roc_curve"
      ],
      "metadata": {
        "id": "4aHCmVBzvMUh"
      },
      "execution_count": null,
      "outputs": []
    },
    {
      "cell_type": "code",
      "execution_count": null,
      "metadata": {
        "scrolled": true,
        "colab": {
          "base_uri": "https://localhost:8080/",
          "height": 206
        },
        "id": "OFd9eD_JdUFb",
        "outputId": "f11c4fe4-8145-45d6-ff07-2a241ca3d845"
      },
      "outputs": [
        {
          "output_type": "execute_result",
          "data": {
            "text/plain": [
              "  label                                        sms_message\n",
              "0   ham  Go until jurong point, crazy.. Available only ...\n",
              "1   ham                      Ok lar... Joking wif u oni...\n",
              "2  spam  Free entry in 2 a wkly comp to win FA Cup fina...\n",
              "3   ham  U dun say so early hor... U c already then say...\n",
              "4   ham  Nah I don't think he goes to usf, he lives aro..."
            ],
            "text/html": [
              "\n",
              "  <div id=\"df-18cb64bf-96fb-4db4-a450-409e713627b2\" class=\"colab-df-container\">\n",
              "    <div>\n",
              "<style scoped>\n",
              "    .dataframe tbody tr th:only-of-type {\n",
              "        vertical-align: middle;\n",
              "    }\n",
              "\n",
              "    .dataframe tbody tr th {\n",
              "        vertical-align: top;\n",
              "    }\n",
              "\n",
              "    .dataframe thead th {\n",
              "        text-align: right;\n",
              "    }\n",
              "</style>\n",
              "<table border=\"1\" class=\"dataframe\">\n",
              "  <thead>\n",
              "    <tr style=\"text-align: right;\">\n",
              "      <th></th>\n",
              "      <th>label</th>\n",
              "      <th>sms_message</th>\n",
              "    </tr>\n",
              "  </thead>\n",
              "  <tbody>\n",
              "    <tr>\n",
              "      <th>0</th>\n",
              "      <td>ham</td>\n",
              "      <td>Go until jurong point, crazy.. Available only ...</td>\n",
              "    </tr>\n",
              "    <tr>\n",
              "      <th>1</th>\n",
              "      <td>ham</td>\n",
              "      <td>Ok lar... Joking wif u oni...</td>\n",
              "    </tr>\n",
              "    <tr>\n",
              "      <th>2</th>\n",
              "      <td>spam</td>\n",
              "      <td>Free entry in 2 a wkly comp to win FA Cup fina...</td>\n",
              "    </tr>\n",
              "    <tr>\n",
              "      <th>3</th>\n",
              "      <td>ham</td>\n",
              "      <td>U dun say so early hor... U c already then say...</td>\n",
              "    </tr>\n",
              "    <tr>\n",
              "      <th>4</th>\n",
              "      <td>ham</td>\n",
              "      <td>Nah I don't think he goes to usf, he lives aro...</td>\n",
              "    </tr>\n",
              "  </tbody>\n",
              "</table>\n",
              "</div>\n",
              "    <div class=\"colab-df-buttons\">\n",
              "\n",
              "  <div class=\"colab-df-container\">\n",
              "    <button class=\"colab-df-convert\" onclick=\"convertToInteractive('df-18cb64bf-96fb-4db4-a450-409e713627b2')\"\n",
              "            title=\"Convert this dataframe to an interactive table.\"\n",
              "            style=\"display:none;\">\n",
              "\n",
              "  <svg xmlns=\"http://www.w3.org/2000/svg\" height=\"24px\" viewBox=\"0 -960 960 960\">\n",
              "    <path d=\"M120-120v-720h720v720H120Zm60-500h600v-160H180v160Zm220 220h160v-160H400v160Zm0 220h160v-160H400v160ZM180-400h160v-160H180v160Zm440 0h160v-160H620v160ZM180-180h160v-160H180v160Zm440 0h160v-160H620v160Z\"/>\n",
              "  </svg>\n",
              "    </button>\n",
              "\n",
              "  <style>\n",
              "    .colab-df-container {\n",
              "      display:flex;\n",
              "      gap: 12px;\n",
              "    }\n",
              "\n",
              "    .colab-df-convert {\n",
              "      background-color: #E8F0FE;\n",
              "      border: none;\n",
              "      border-radius: 50%;\n",
              "      cursor: pointer;\n",
              "      display: none;\n",
              "      fill: #1967D2;\n",
              "      height: 32px;\n",
              "      padding: 0 0 0 0;\n",
              "      width: 32px;\n",
              "    }\n",
              "\n",
              "    .colab-df-convert:hover {\n",
              "      background-color: #E2EBFA;\n",
              "      box-shadow: 0px 1px 2px rgba(60, 64, 67, 0.3), 0px 1px 3px 1px rgba(60, 64, 67, 0.15);\n",
              "      fill: #174EA6;\n",
              "    }\n",
              "\n",
              "    .colab-df-buttons div {\n",
              "      margin-bottom: 4px;\n",
              "    }\n",
              "\n",
              "    [theme=dark] .colab-df-convert {\n",
              "      background-color: #3B4455;\n",
              "      fill: #D2E3FC;\n",
              "    }\n",
              "\n",
              "    [theme=dark] .colab-df-convert:hover {\n",
              "      background-color: #434B5C;\n",
              "      box-shadow: 0px 1px 3px 1px rgba(0, 0, 0, 0.15);\n",
              "      filter: drop-shadow(0px 1px 2px rgba(0, 0, 0, 0.3));\n",
              "      fill: #FFFFFF;\n",
              "    }\n",
              "  </style>\n",
              "\n",
              "    <script>\n",
              "      const buttonEl =\n",
              "        document.querySelector('#df-18cb64bf-96fb-4db4-a450-409e713627b2 button.colab-df-convert');\n",
              "      buttonEl.style.display =\n",
              "        google.colab.kernel.accessAllowed ? 'block' : 'none';\n",
              "\n",
              "      async function convertToInteractive(key) {\n",
              "        const element = document.querySelector('#df-18cb64bf-96fb-4db4-a450-409e713627b2');\n",
              "        const dataTable =\n",
              "          await google.colab.kernel.invokeFunction('convertToInteractive',\n",
              "                                                    [key], {});\n",
              "        if (!dataTable) return;\n",
              "\n",
              "        const docLinkHtml = 'Like what you see? Visit the ' +\n",
              "          '<a target=\"_blank\" href=https://colab.research.google.com/notebooks/data_table.ipynb>data table notebook</a>'\n",
              "          + ' to learn more about interactive tables.';\n",
              "        element.innerHTML = '';\n",
              "        dataTable['output_type'] = 'display_data';\n",
              "        await google.colab.output.renderOutput(dataTable, element);\n",
              "        const docLink = document.createElement('div');\n",
              "        docLink.innerHTML = docLinkHtml;\n",
              "        element.appendChild(docLink);\n",
              "      }\n",
              "    </script>\n",
              "  </div>\n",
              "\n",
              "\n",
              "<div id=\"df-64d287a4-4341-466a-8515-8f9ed562a393\">\n",
              "  <button class=\"colab-df-quickchart\" onclick=\"quickchart('df-64d287a4-4341-466a-8515-8f9ed562a393')\"\n",
              "            title=\"Suggest charts\"\n",
              "            style=\"display:none;\">\n",
              "\n",
              "<svg xmlns=\"http://www.w3.org/2000/svg\" height=\"24px\"viewBox=\"0 0 24 24\"\n",
              "     width=\"24px\">\n",
              "    <g>\n",
              "        <path d=\"M19 3H5c-1.1 0-2 .9-2 2v14c0 1.1.9 2 2 2h14c1.1 0 2-.9 2-2V5c0-1.1-.9-2-2-2zM9 17H7v-7h2v7zm4 0h-2V7h2v10zm4 0h-2v-4h2v4z\"/>\n",
              "    </g>\n",
              "</svg>\n",
              "  </button>\n",
              "\n",
              "<style>\n",
              "  .colab-df-quickchart {\n",
              "      --bg-color: #E8F0FE;\n",
              "      --fill-color: #1967D2;\n",
              "      --hover-bg-color: #E2EBFA;\n",
              "      --hover-fill-color: #174EA6;\n",
              "      --disabled-fill-color: #AAA;\n",
              "      --disabled-bg-color: #DDD;\n",
              "  }\n",
              "\n",
              "  [theme=dark] .colab-df-quickchart {\n",
              "      --bg-color: #3B4455;\n",
              "      --fill-color: #D2E3FC;\n",
              "      --hover-bg-color: #434B5C;\n",
              "      --hover-fill-color: #FFFFFF;\n",
              "      --disabled-bg-color: #3B4455;\n",
              "      --disabled-fill-color: #666;\n",
              "  }\n",
              "\n",
              "  .colab-df-quickchart {\n",
              "    background-color: var(--bg-color);\n",
              "    border: none;\n",
              "    border-radius: 50%;\n",
              "    cursor: pointer;\n",
              "    display: none;\n",
              "    fill: var(--fill-color);\n",
              "    height: 32px;\n",
              "    padding: 0;\n",
              "    width: 32px;\n",
              "  }\n",
              "\n",
              "  .colab-df-quickchart:hover {\n",
              "    background-color: var(--hover-bg-color);\n",
              "    box-shadow: 0 1px 2px rgba(60, 64, 67, 0.3), 0 1px 3px 1px rgba(60, 64, 67, 0.15);\n",
              "    fill: var(--button-hover-fill-color);\n",
              "  }\n",
              "\n",
              "  .colab-df-quickchart-complete:disabled,\n",
              "  .colab-df-quickchart-complete:disabled:hover {\n",
              "    background-color: var(--disabled-bg-color);\n",
              "    fill: var(--disabled-fill-color);\n",
              "    box-shadow: none;\n",
              "  }\n",
              "\n",
              "  .colab-df-spinner {\n",
              "    border: 2px solid var(--fill-color);\n",
              "    border-color: transparent;\n",
              "    border-bottom-color: var(--fill-color);\n",
              "    animation:\n",
              "      spin 1s steps(1) infinite;\n",
              "  }\n",
              "\n",
              "  @keyframes spin {\n",
              "    0% {\n",
              "      border-color: transparent;\n",
              "      border-bottom-color: var(--fill-color);\n",
              "      border-left-color: var(--fill-color);\n",
              "    }\n",
              "    20% {\n",
              "      border-color: transparent;\n",
              "      border-left-color: var(--fill-color);\n",
              "      border-top-color: var(--fill-color);\n",
              "    }\n",
              "    30% {\n",
              "      border-color: transparent;\n",
              "      border-left-color: var(--fill-color);\n",
              "      border-top-color: var(--fill-color);\n",
              "      border-right-color: var(--fill-color);\n",
              "    }\n",
              "    40% {\n",
              "      border-color: transparent;\n",
              "      border-right-color: var(--fill-color);\n",
              "      border-top-color: var(--fill-color);\n",
              "    }\n",
              "    60% {\n",
              "      border-color: transparent;\n",
              "      border-right-color: var(--fill-color);\n",
              "    }\n",
              "    80% {\n",
              "      border-color: transparent;\n",
              "      border-right-color: var(--fill-color);\n",
              "      border-bottom-color: var(--fill-color);\n",
              "    }\n",
              "    90% {\n",
              "      border-color: transparent;\n",
              "      border-bottom-color: var(--fill-color);\n",
              "    }\n",
              "  }\n",
              "</style>\n",
              "\n",
              "  <script>\n",
              "    async function quickchart(key) {\n",
              "      const quickchartButtonEl =\n",
              "        document.querySelector('#' + key + ' button');\n",
              "      quickchartButtonEl.disabled = true;  // To prevent multiple clicks.\n",
              "      quickchartButtonEl.classList.add('colab-df-spinner');\n",
              "      try {\n",
              "        const charts = await google.colab.kernel.invokeFunction(\n",
              "            'suggestCharts', [key], {});\n",
              "      } catch (error) {\n",
              "        console.error('Error during call to suggestCharts:', error);\n",
              "      }\n",
              "      quickchartButtonEl.classList.remove('colab-df-spinner');\n",
              "      quickchartButtonEl.classList.add('colab-df-quickchart-complete');\n",
              "    }\n",
              "    (() => {\n",
              "      let quickchartButtonEl =\n",
              "        document.querySelector('#df-64d287a4-4341-466a-8515-8f9ed562a393 button');\n",
              "      quickchartButtonEl.style.display =\n",
              "        google.colab.kernel.accessAllowed ? 'block' : 'none';\n",
              "    })();\n",
              "  </script>\n",
              "</div>\n",
              "\n",
              "    </div>\n",
              "  </div>\n"
            ]
          },
          "metadata": {},
          "execution_count": 224
        }
      ],
      "source": [
        "# reading the training data\n",
        "docs = pd.read_csv('/content/smsspamcollection.csv',names=['label','sms_message'])\n",
        "docs.head()"
      ]
    },
    {
      "cell_type": "markdown",
      "source": [
        "The first column takes two values, 'ham' which signifies that the message is not spam, and 'spam' which signifies that the message is spam.\n",
        "\n",
        "The second column is the text content of the SMS message that is being classified."
      ],
      "metadata": {
        "id": "9nUjDHzITzJE"
      }
    },
    {
      "cell_type": "code",
      "execution_count": null,
      "metadata": {
        "colab": {
          "base_uri": "https://localhost:8080/"
        },
        "id": "kKdrTXCYdUFc",
        "outputId": "a3347627-11bc-439c-c385-72a473f2c7a6"
      },
      "outputs": [
        {
          "output_type": "execute_result",
          "data": {
            "text/plain": [
              "5572"
            ]
          },
          "metadata": {},
          "execution_count": 225
        }
      ],
      "source": [
        "# number of SMSes / documents\n",
        "len(docs)"
      ]
    },
    {
      "cell_type": "code",
      "execution_count": null,
      "metadata": {
        "colab": {
          "base_uri": "https://localhost:8080/"
        },
        "id": "pYdJWrtcdUFc",
        "outputId": "48b37dd0-bd29-4391-b3de-9a00c1a58202"
      },
      "outputs": [
        {
          "output_type": "execute_result",
          "data": {
            "text/plain": [
              "ham     4825\n",
              "spam     747\n",
              "Name: label, dtype: int64"
            ]
          },
          "metadata": {},
          "execution_count": 226
        }
      ],
      "source": [
        "# counting spam and ham instances\n",
        "ham_spam = docs['label'].value_counts()\n",
        "ham_spam"
      ]
    },
    {
      "cell_type": "code",
      "execution_count": null,
      "metadata": {
        "colab": {
          "base_uri": "https://localhost:8080/"
        },
        "id": "4cw96NJRdUFc",
        "outputId": "0a2994fe-8314-426b-b7d9-59a9b5bb4ff2"
      },
      "outputs": [
        {
          "output_type": "stream",
          "name": "stdout",
          "text": [
            "spam rate is about 13%\n"
          ]
        }
      ],
      "source": [
        "print(\"spam rate is about {0}%\".format(\n",
        "    round((ham_spam[1]/float(ham_spam[0]+ham_spam[1]))*100), 2))"
      ]
    },
    {
      "cell_type": "markdown",
      "source": [
        "## 2. Data Preprocessing"
      ],
      "metadata": {
        "id": "aSGLMxfl5Vdi"
      }
    },
    {
      "cell_type": "markdown",
      "source": [
        "We need to convert the values in the 'label' column to numerical values using map method. This maps the 'ham' value to 0 and the 'spam' value to 1."
      ],
      "metadata": {
        "id": "_cBcTxZH5puZ"
      }
    },
    {
      "cell_type": "code",
      "execution_count": null,
      "metadata": {
        "id": "mY_33_bmdUFd"
      },
      "outputs": [],
      "source": [
        "# mapping labels to 0 and 1\n",
        "docs['label'] = docs.label.map({'ham':0, 'spam':1})"
      ]
    },
    {
      "cell_type": "code",
      "execution_count": null,
      "metadata": {
        "scrolled": true,
        "colab": {
          "base_uri": "https://localhost:8080/",
          "height": 206
        },
        "id": "ThFcNp6bdUFd",
        "outputId": "a7702d6d-6133-4b59-809e-dd45980369f8"
      },
      "outputs": [
        {
          "output_type": "execute_result",
          "data": {
            "text/plain": [
              "   label                                        sms_message\n",
              "0      0  Go until jurong point, crazy.. Available only ...\n",
              "1      0                      Ok lar... Joking wif u oni...\n",
              "2      1  Free entry in 2 a wkly comp to win FA Cup fina...\n",
              "3      0  U dun say so early hor... U c already then say...\n",
              "4      0  Nah I don't think he goes to usf, he lives aro..."
            ],
            "text/html": [
              "\n",
              "  <div id=\"df-5aa9b6c4-0777-4e33-8a7c-e7e7836fc453\" class=\"colab-df-container\">\n",
              "    <div>\n",
              "<style scoped>\n",
              "    .dataframe tbody tr th:only-of-type {\n",
              "        vertical-align: middle;\n",
              "    }\n",
              "\n",
              "    .dataframe tbody tr th {\n",
              "        vertical-align: top;\n",
              "    }\n",
              "\n",
              "    .dataframe thead th {\n",
              "        text-align: right;\n",
              "    }\n",
              "</style>\n",
              "<table border=\"1\" class=\"dataframe\">\n",
              "  <thead>\n",
              "    <tr style=\"text-align: right;\">\n",
              "      <th></th>\n",
              "      <th>label</th>\n",
              "      <th>sms_message</th>\n",
              "    </tr>\n",
              "  </thead>\n",
              "  <tbody>\n",
              "    <tr>\n",
              "      <th>0</th>\n",
              "      <td>0</td>\n",
              "      <td>Go until jurong point, crazy.. Available only ...</td>\n",
              "    </tr>\n",
              "    <tr>\n",
              "      <th>1</th>\n",
              "      <td>0</td>\n",
              "      <td>Ok lar... Joking wif u oni...</td>\n",
              "    </tr>\n",
              "    <tr>\n",
              "      <th>2</th>\n",
              "      <td>1</td>\n",
              "      <td>Free entry in 2 a wkly comp to win FA Cup fina...</td>\n",
              "    </tr>\n",
              "    <tr>\n",
              "      <th>3</th>\n",
              "      <td>0</td>\n",
              "      <td>U dun say so early hor... U c already then say...</td>\n",
              "    </tr>\n",
              "    <tr>\n",
              "      <th>4</th>\n",
              "      <td>0</td>\n",
              "      <td>Nah I don't think he goes to usf, he lives aro...</td>\n",
              "    </tr>\n",
              "  </tbody>\n",
              "</table>\n",
              "</div>\n",
              "    <div class=\"colab-df-buttons\">\n",
              "\n",
              "  <div class=\"colab-df-container\">\n",
              "    <button class=\"colab-df-convert\" onclick=\"convertToInteractive('df-5aa9b6c4-0777-4e33-8a7c-e7e7836fc453')\"\n",
              "            title=\"Convert this dataframe to an interactive table.\"\n",
              "            style=\"display:none;\">\n",
              "\n",
              "  <svg xmlns=\"http://www.w3.org/2000/svg\" height=\"24px\" viewBox=\"0 -960 960 960\">\n",
              "    <path d=\"M120-120v-720h720v720H120Zm60-500h600v-160H180v160Zm220 220h160v-160H400v160Zm0 220h160v-160H400v160ZM180-400h160v-160H180v160Zm440 0h160v-160H620v160ZM180-180h160v-160H180v160Zm440 0h160v-160H620v160Z\"/>\n",
              "  </svg>\n",
              "    </button>\n",
              "\n",
              "  <style>\n",
              "    .colab-df-container {\n",
              "      display:flex;\n",
              "      gap: 12px;\n",
              "    }\n",
              "\n",
              "    .colab-df-convert {\n",
              "      background-color: #E8F0FE;\n",
              "      border: none;\n",
              "      border-radius: 50%;\n",
              "      cursor: pointer;\n",
              "      display: none;\n",
              "      fill: #1967D2;\n",
              "      height: 32px;\n",
              "      padding: 0 0 0 0;\n",
              "      width: 32px;\n",
              "    }\n",
              "\n",
              "    .colab-df-convert:hover {\n",
              "      background-color: #E2EBFA;\n",
              "      box-shadow: 0px 1px 2px rgba(60, 64, 67, 0.3), 0px 1px 3px 1px rgba(60, 64, 67, 0.15);\n",
              "      fill: #174EA6;\n",
              "    }\n",
              "\n",
              "    .colab-df-buttons div {\n",
              "      margin-bottom: 4px;\n",
              "    }\n",
              "\n",
              "    [theme=dark] .colab-df-convert {\n",
              "      background-color: #3B4455;\n",
              "      fill: #D2E3FC;\n",
              "    }\n",
              "\n",
              "    [theme=dark] .colab-df-convert:hover {\n",
              "      background-color: #434B5C;\n",
              "      box-shadow: 0px 1px 3px 1px rgba(0, 0, 0, 0.15);\n",
              "      filter: drop-shadow(0px 1px 2px rgba(0, 0, 0, 0.3));\n",
              "      fill: #FFFFFF;\n",
              "    }\n",
              "  </style>\n",
              "\n",
              "    <script>\n",
              "      const buttonEl =\n",
              "        document.querySelector('#df-5aa9b6c4-0777-4e33-8a7c-e7e7836fc453 button.colab-df-convert');\n",
              "      buttonEl.style.display =\n",
              "        google.colab.kernel.accessAllowed ? 'block' : 'none';\n",
              "\n",
              "      async function convertToInteractive(key) {\n",
              "        const element = document.querySelector('#df-5aa9b6c4-0777-4e33-8a7c-e7e7836fc453');\n",
              "        const dataTable =\n",
              "          await google.colab.kernel.invokeFunction('convertToInteractive',\n",
              "                                                    [key], {});\n",
              "        if (!dataTable) return;\n",
              "\n",
              "        const docLinkHtml = 'Like what you see? Visit the ' +\n",
              "          '<a target=\"_blank\" href=https://colab.research.google.com/notebooks/data_table.ipynb>data table notebook</a>'\n",
              "          + ' to learn more about interactive tables.';\n",
              "        element.innerHTML = '';\n",
              "        dataTable['output_type'] = 'display_data';\n",
              "        await google.colab.output.renderOutput(dataTable, element);\n",
              "        const docLink = document.createElement('div');\n",
              "        docLink.innerHTML = docLinkHtml;\n",
              "        element.appendChild(docLink);\n",
              "      }\n",
              "    </script>\n",
              "  </div>\n",
              "\n",
              "\n",
              "<div id=\"df-134c0a9e-e48c-44e4-a4a8-b2c87ab237af\">\n",
              "  <button class=\"colab-df-quickchart\" onclick=\"quickchart('df-134c0a9e-e48c-44e4-a4a8-b2c87ab237af')\"\n",
              "            title=\"Suggest charts\"\n",
              "            style=\"display:none;\">\n",
              "\n",
              "<svg xmlns=\"http://www.w3.org/2000/svg\" height=\"24px\"viewBox=\"0 0 24 24\"\n",
              "     width=\"24px\">\n",
              "    <g>\n",
              "        <path d=\"M19 3H5c-1.1 0-2 .9-2 2v14c0 1.1.9 2 2 2h14c1.1 0 2-.9 2-2V5c0-1.1-.9-2-2-2zM9 17H7v-7h2v7zm4 0h-2V7h2v10zm4 0h-2v-4h2v4z\"/>\n",
              "    </g>\n",
              "</svg>\n",
              "  </button>\n",
              "\n",
              "<style>\n",
              "  .colab-df-quickchart {\n",
              "      --bg-color: #E8F0FE;\n",
              "      --fill-color: #1967D2;\n",
              "      --hover-bg-color: #E2EBFA;\n",
              "      --hover-fill-color: #174EA6;\n",
              "      --disabled-fill-color: #AAA;\n",
              "      --disabled-bg-color: #DDD;\n",
              "  }\n",
              "\n",
              "  [theme=dark] .colab-df-quickchart {\n",
              "      --bg-color: #3B4455;\n",
              "      --fill-color: #D2E3FC;\n",
              "      --hover-bg-color: #434B5C;\n",
              "      --hover-fill-color: #FFFFFF;\n",
              "      --disabled-bg-color: #3B4455;\n",
              "      --disabled-fill-color: #666;\n",
              "  }\n",
              "\n",
              "  .colab-df-quickchart {\n",
              "    background-color: var(--bg-color);\n",
              "    border: none;\n",
              "    border-radius: 50%;\n",
              "    cursor: pointer;\n",
              "    display: none;\n",
              "    fill: var(--fill-color);\n",
              "    height: 32px;\n",
              "    padding: 0;\n",
              "    width: 32px;\n",
              "  }\n",
              "\n",
              "  .colab-df-quickchart:hover {\n",
              "    background-color: var(--hover-bg-color);\n",
              "    box-shadow: 0 1px 2px rgba(60, 64, 67, 0.3), 0 1px 3px 1px rgba(60, 64, 67, 0.15);\n",
              "    fill: var(--button-hover-fill-color);\n",
              "  }\n",
              "\n",
              "  .colab-df-quickchart-complete:disabled,\n",
              "  .colab-df-quickchart-complete:disabled:hover {\n",
              "    background-color: var(--disabled-bg-color);\n",
              "    fill: var(--disabled-fill-color);\n",
              "    box-shadow: none;\n",
              "  }\n",
              "\n",
              "  .colab-df-spinner {\n",
              "    border: 2px solid var(--fill-color);\n",
              "    border-color: transparent;\n",
              "    border-bottom-color: var(--fill-color);\n",
              "    animation:\n",
              "      spin 1s steps(1) infinite;\n",
              "  }\n",
              "\n",
              "  @keyframes spin {\n",
              "    0% {\n",
              "      border-color: transparent;\n",
              "      border-bottom-color: var(--fill-color);\n",
              "      border-left-color: var(--fill-color);\n",
              "    }\n",
              "    20% {\n",
              "      border-color: transparent;\n",
              "      border-left-color: var(--fill-color);\n",
              "      border-top-color: var(--fill-color);\n",
              "    }\n",
              "    30% {\n",
              "      border-color: transparent;\n",
              "      border-left-color: var(--fill-color);\n",
              "      border-top-color: var(--fill-color);\n",
              "      border-right-color: var(--fill-color);\n",
              "    }\n",
              "    40% {\n",
              "      border-color: transparent;\n",
              "      border-right-color: var(--fill-color);\n",
              "      border-top-color: var(--fill-color);\n",
              "    }\n",
              "    60% {\n",
              "      border-color: transparent;\n",
              "      border-right-color: var(--fill-color);\n",
              "    }\n",
              "    80% {\n",
              "      border-color: transparent;\n",
              "      border-right-color: var(--fill-color);\n",
              "      border-bottom-color: var(--fill-color);\n",
              "    }\n",
              "    90% {\n",
              "      border-color: transparent;\n",
              "      border-bottom-color: var(--fill-color);\n",
              "    }\n",
              "  }\n",
              "</style>\n",
              "\n",
              "  <script>\n",
              "    async function quickchart(key) {\n",
              "      const quickchartButtonEl =\n",
              "        document.querySelector('#' + key + ' button');\n",
              "      quickchartButtonEl.disabled = true;  // To prevent multiple clicks.\n",
              "      quickchartButtonEl.classList.add('colab-df-spinner');\n",
              "      try {\n",
              "        const charts = await google.colab.kernel.invokeFunction(\n",
              "            'suggestCharts', [key], {});\n",
              "      } catch (error) {\n",
              "        console.error('Error during call to suggestCharts:', error);\n",
              "      }\n",
              "      quickchartButtonEl.classList.remove('colab-df-spinner');\n",
              "      quickchartButtonEl.classList.add('colab-df-quickchart-complete');\n",
              "    }\n",
              "    (() => {\n",
              "      let quickchartButtonEl =\n",
              "        document.querySelector('#df-134c0a9e-e48c-44e4-a4a8-b2c87ab237af button');\n",
              "      quickchartButtonEl.style.display =\n",
              "        google.colab.kernel.accessAllowed ? 'block' : 'none';\n",
              "    })();\n",
              "  </script>\n",
              "</div>\n",
              "\n",
              "    </div>\n",
              "  </div>\n"
            ]
          },
          "metadata": {},
          "execution_count": 229
        }
      ],
      "source": [
        "docs.head()"
      ]
    },
    {
      "cell_type": "code",
      "execution_count": null,
      "metadata": {
        "colab": {
          "base_uri": "https://localhost:8080/"
        },
        "id": "_lBPKJ8udUFd",
        "outputId": "8d76df8d-f0ce-41c7-a622-a56f4d24d93e"
      },
      "outputs": [
        {
          "output_type": "stream",
          "name": "stdout",
          "text": [
            "(5572,)\n",
            "(5572,)\n"
          ]
        }
      ],
      "source": [
        "# convert to X and y\n",
        "X = docs.sms_message\n",
        "y = docs.label\n",
        "print(X.shape)\n",
        "print(y.shape)"
      ]
    },
    {
      "cell_type": "markdown",
      "source": [
        "## 3. Split data into separate training and test set"
      ],
      "metadata": {
        "id": "P1g0BXyHmIyn"
      }
    },
    {
      "cell_type": "markdown",
      "source": [
        "Split the dataset into a training and testing set using the train_test_split method in sklearn. Split the data using the following variables:\n",
        "\n",
        "* X_train is our training data for the 'sms_message' column.\n",
        "* y_train is our training data for the 'label' column\n",
        "* X_test is our testing data for the 'sms_message' column.\n",
        "* y_test is our testing data for the 'label' column."
      ],
      "metadata": {
        "id": "qRbPRswZ7D30"
      }
    },
    {
      "cell_type": "code",
      "execution_count": null,
      "metadata": {
        "id": "dfd2cMaGdUFd"
      },
      "outputs": [],
      "source": [
        "# splitting into test and train\n",
        "from sklearn.model_selection  import train_test_split\n",
        "X_train, X_test, y_train, y_test = train_test_split(X, y, random_state=1)"
      ]
    },
    {
      "cell_type": "code",
      "source": [
        "print('Number of rows in the total set: {}'.format(docs.shape[0]))\n",
        "print('Number of rows in the training set: {}'.format(X_train.shape[0]))\n",
        "print('Number of rows in the test set: {}'.format(X_test.shape[0]))"
      ],
      "metadata": {
        "colab": {
          "base_uri": "https://localhost:8080/"
        },
        "id": "xIfGw1dM7nwA",
        "outputId": "b85e8f48-ddf3-41dd-a7aa-80a2881a2bf7"
      },
      "execution_count": null,
      "outputs": [
        {
          "output_type": "stream",
          "name": "stdout",
          "text": [
            "Number of rows in the total set: 5572\n",
            "Number of rows in the training set: 4179\n",
            "Number of rows in the test set: 1393\n"
          ]
        }
      ]
    },
    {
      "cell_type": "markdown",
      "source": [
        "#### Applying Bag of Words processing to our dataset.\n",
        "Now that we have split the data, our next objective is to follow \"Bag of Words\" and convert our data into the desired matrix format. To do this we will be using CountVectorizer(). There are two steps to consider here:\n",
        "\n",
        "* First, we have to fit our training data (X_train) into CountVectorizer() and return the matrix.\n",
        "* Secondly, we have to transform our testing data (X_test) to return the matrix.\n",
        "\n",
        "Note that X_train is our training data for the 'sms_message' column in our dataset and we will be using this to train our model.\n",
        "\n",
        "X_test is our testing data for the 'sms_message' column and this is the data we will be using (after transformation to a matrix) to make predictions on. We will then compare those predictions with y_test in a later step."
      ],
      "metadata": {
        "id": "0fS8aAbx8SV9"
      }
    },
    {
      "cell_type": "code",
      "execution_count": null,
      "metadata": {
        "id": "llUB6kSMdUFe"
      },
      "outputs": [],
      "source": [
        "# vectorizing the sentences; removing stop words\n",
        "from sklearn.feature_extraction.text import CountVectorizer\n",
        "vect = CountVectorizer(stop_words='english')"
      ]
    },
    {
      "cell_type": "code",
      "execution_count": null,
      "metadata": {
        "scrolled": true,
        "colab": {
          "base_uri": "https://localhost:8080/",
          "height": 75
        },
        "id": "7gz_U8QJdUFe",
        "outputId": "ffd4fbe1-2f6c-4d23-a322-a6f49d9cf49b"
      },
      "outputs": [
        {
          "output_type": "execute_result",
          "data": {
            "text/plain": [
              "CountVectorizer(stop_words='english')"
            ],
            "text/html": [
              "<style>#sk-container-id-10 {color: black;background-color: white;}#sk-container-id-10 pre{padding: 0;}#sk-container-id-10 div.sk-toggleable {background-color: white;}#sk-container-id-10 label.sk-toggleable__label {cursor: pointer;display: block;width: 100%;margin-bottom: 0;padding: 0.3em;box-sizing: border-box;text-align: center;}#sk-container-id-10 label.sk-toggleable__label-arrow:before {content: \"▸\";float: left;margin-right: 0.25em;color: #696969;}#sk-container-id-10 label.sk-toggleable__label-arrow:hover:before {color: black;}#sk-container-id-10 div.sk-estimator:hover label.sk-toggleable__label-arrow:before {color: black;}#sk-container-id-10 div.sk-toggleable__content {max-height: 0;max-width: 0;overflow: hidden;text-align: left;background-color: #f0f8ff;}#sk-container-id-10 div.sk-toggleable__content pre {margin: 0.2em;color: black;border-radius: 0.25em;background-color: #f0f8ff;}#sk-container-id-10 input.sk-toggleable__control:checked~div.sk-toggleable__content {max-height: 200px;max-width: 100%;overflow: auto;}#sk-container-id-10 input.sk-toggleable__control:checked~label.sk-toggleable__label-arrow:before {content: \"▾\";}#sk-container-id-10 div.sk-estimator input.sk-toggleable__control:checked~label.sk-toggleable__label {background-color: #d4ebff;}#sk-container-id-10 div.sk-label input.sk-toggleable__control:checked~label.sk-toggleable__label {background-color: #d4ebff;}#sk-container-id-10 input.sk-hidden--visually {border: 0;clip: rect(1px 1px 1px 1px);clip: rect(1px, 1px, 1px, 1px);height: 1px;margin: -1px;overflow: hidden;padding: 0;position: absolute;width: 1px;}#sk-container-id-10 div.sk-estimator {font-family: monospace;background-color: #f0f8ff;border: 1px dotted black;border-radius: 0.25em;box-sizing: border-box;margin-bottom: 0.5em;}#sk-container-id-10 div.sk-estimator:hover {background-color: #d4ebff;}#sk-container-id-10 div.sk-parallel-item::after {content: \"\";width: 100%;border-bottom: 1px solid gray;flex-grow: 1;}#sk-container-id-10 div.sk-label:hover label.sk-toggleable__label {background-color: #d4ebff;}#sk-container-id-10 div.sk-serial::before {content: \"\";position: absolute;border-left: 1px solid gray;box-sizing: border-box;top: 0;bottom: 0;left: 50%;z-index: 0;}#sk-container-id-10 div.sk-serial {display: flex;flex-direction: column;align-items: center;background-color: white;padding-right: 0.2em;padding-left: 0.2em;position: relative;}#sk-container-id-10 div.sk-item {position: relative;z-index: 1;}#sk-container-id-10 div.sk-parallel {display: flex;align-items: stretch;justify-content: center;background-color: white;position: relative;}#sk-container-id-10 div.sk-item::before, #sk-container-id-10 div.sk-parallel-item::before {content: \"\";position: absolute;border-left: 1px solid gray;box-sizing: border-box;top: 0;bottom: 0;left: 50%;z-index: -1;}#sk-container-id-10 div.sk-parallel-item {display: flex;flex-direction: column;z-index: 1;position: relative;background-color: white;}#sk-container-id-10 div.sk-parallel-item:first-child::after {align-self: flex-end;width: 50%;}#sk-container-id-10 div.sk-parallel-item:last-child::after {align-self: flex-start;width: 50%;}#sk-container-id-10 div.sk-parallel-item:only-child::after {width: 0;}#sk-container-id-10 div.sk-dashed-wrapped {border: 1px dashed gray;margin: 0 0.4em 0.5em 0.4em;box-sizing: border-box;padding-bottom: 0.4em;background-color: white;}#sk-container-id-10 div.sk-label label {font-family: monospace;font-weight: bold;display: inline-block;line-height: 1.2em;}#sk-container-id-10 div.sk-label-container {text-align: center;}#sk-container-id-10 div.sk-container {/* jupyter's `normalize.less` sets `[hidden] { display: none; }` but bootstrap.min.css set `[hidden] { display: none !important; }` so we also need the `!important` here to be able to override the default hidden behavior on the sphinx rendered scikit-learn.org. See: https://github.com/scikit-learn/scikit-learn/issues/21755 */display: inline-block !important;position: relative;}#sk-container-id-10 div.sk-text-repr-fallback {display: none;}</style><div id=\"sk-container-id-10\" class=\"sk-top-container\"><div class=\"sk-text-repr-fallback\"><pre>CountVectorizer(stop_words=&#x27;english&#x27;)</pre><b>In a Jupyter environment, please rerun this cell to show the HTML representation or trust the notebook. <br />On GitHub, the HTML representation is unable to render, please try loading this page with nbviewer.org.</b></div><div class=\"sk-container\" hidden><div class=\"sk-item\"><div class=\"sk-estimator sk-toggleable\"><input class=\"sk-toggleable__control sk-hidden--visually\" id=\"sk-estimator-id-10\" type=\"checkbox\" checked><label for=\"sk-estimator-id-10\" class=\"sk-toggleable__label sk-toggleable__label-arrow\">CountVectorizer</label><div class=\"sk-toggleable__content\"><pre>CountVectorizer(stop_words=&#x27;english&#x27;)</pre></div></div></div></div></div>"
            ]
          },
          "metadata": {},
          "execution_count": 234
        }
      ],
      "source": [
        "vect.fit(X_train)"
      ]
    },
    {
      "cell_type": "code",
      "execution_count": null,
      "metadata": {
        "colab": {
          "base_uri": "https://localhost:8080/"
        },
        "id": "naN1c-ZEdUFe",
        "outputId": "8c5dffd1-3ecf-4279-97a5-493de89c5a3c"
      },
      "outputs": [
        {
          "output_type": "execute_result",
          "data": {
            "text/plain": [
              "{'4mths': 509,\n",
              " 'half': 3089,\n",
              " 'price': 5027,\n",
              " 'orange': 4626,\n",
              " 'line': 3852,\n",
              " 'rental': 5310,\n",
              " 'latest': 3763,\n",
              " 'camera': 1527,\n",
              " 'phones': 4822,\n",
              " 'free': 2780,\n",
              " 'phone': 4818,\n",
              " '11mths': 264,\n",
              " 'mobilesdirect': 4248,\n",
              " '08000938767': 50,\n",
              " 'update': 6674,\n",
              " 'or2stoptxt': 4624,\n",
              " 'cs': 1971,\n",
              " 'did': 2169,\n",
              " 'stitch': 6028,\n",
              " 'trouser': 6545,\n",
              " 'hope': 3260,\n",
              " 'enjoyed': 2436,\n",
              " 'new': 4442,\n",
              " 'content': 1867,\n",
              " 'text': 6321,\n",
              " 'stop': 6038,\n",
              " '61610': 563,\n",
              " 'unsubscribe': 6666,\n",
              " 'help': 3180,\n",
              " '08712400602450p': 98,\n",
              " 'provided': 5089,\n",
              " 'tones2you': 6473,\n",
              " 'uk': 6615,\n",
              " 'heard': 3159,\n",
              " 'u4': 6608,\n",
              " 'rude': 5443,\n",
              " 'chat': 1643,\n",
              " 'private': 5040,\n",
              " '01223585334': 5,\n",
              " 'cum': 1989,\n",
              " 'wan': 6853,\n",
              " '2c': 374,\n",
              " 'pics': 4837,\n",
              " 'gettin': 2913,\n",
              " 'shagged': 5628,\n",
              " 'pix': 4858,\n",
              " '8552': 660,\n",
              " '2end': 378,\n",
              " 'send': 5590,\n",
              " 'sam': 5487,\n",
              " 'xxx': 7128,\n",
              " 'neva': 4438,\n",
              " 'tell': 6289,\n",
              " 'noe': 4477,\n",
              " 'home': 3244,\n",
              " 'da': 2015,\n",
              " 'aft': 826,\n",
              " 'wat': 6877,\n",
              " 'wiskey': 7013,\n",
              " 'brandy': 1389,\n",
              " 'rum': 5450,\n",
              " 'gin': 2927,\n",
              " 'beer': 1209,\n",
              " 'vodka': 6799,\n",
              " 'scotch': 5535,\n",
              " 'shampain': 5637,\n",
              " 'wine': 6994,\n",
              " 'kudi': 3715,\n",
              " 'yarasu': 7143,\n",
              " 'dhina': 2156,\n",
              " 'vaazhthukkal': 6721,\n",
              " 'seeking': 5573,\n",
              " 'lady': 3732,\n",
              " 'street': 6056,\n",
              " 'freak': 2776,\n",
              " 'sheets': 5649,\n",
              " 'lol': 3910,\n",
              " 'drunkard': 2327,\n",
              " 'just': 3623,\n",
              " 'doing': 2259,\n",
              " 'hair': 3085,\n",
              " 'moment': 4265,\n",
              " 'yeah': 7150,\n",
              " 'tonight': 6475,\n",
              " 'wats': 6888,\n",
              " 'plan': 4867,\n",
              " 'turning': 6579,\n",
              " 'moms': 4267,\n",
              " 'telling': 6290,\n",
              " 'cancer': 1535,\n",
              " 'sister': 5745,\n",
              " 'won': 7042,\n",
              " 'calling': 1519,\n",
              " 'hurts': 3323,\n",
              " 'talk': 6234,\n",
              " 'love': 3953,\n",
              " 'coming': 1800,\n",
              " 'dinner': 2193,\n",
              " 'rite': 5396,\n",
              " 'dad': 2018,\n",
              " 'ask': 1032,\n",
              " 'confirm': 1843,\n",
              " 'wif': 6978,\n",
              " 'ah': 842,\n",
              " 'poor': 4931,\n",
              " 'baby': 1121,\n",
              " 'urfeeling': 6688,\n",
              " 'bettersn': 1243,\n",
              " 'luv': 3988,\n",
              " 'probthat': 5052,\n",
              " 'overdose': 4667,\n",
              " 'work': 7059,\n",
              " 'hey': 3198,\n",
              " 'careful': 1556,\n",
              " 'spk': 5938,\n",
              " 'sn': 5822,\n",
              " 'lots': 3942,\n",
              " 'lovejen': 3955,\n",
              " 'gam': 2856,\n",
              " 'gone': 2968,\n",
              " 'outstanding': 4664,\n",
              " 'innings': 3438,\n",
              " 'nice': 4453,\n",
              " 'working': 7063,\n",
              " 'haha': 3081,\n",
              " 'kidding': 3672,\n",
              " 'papa': 4705,\n",
              " 'needs': 4417,\n",
              " 'drugs': 2325,\n",
              " 'chief': 1677,\n",
              " 'bell': 1223,\n",
              " 'need': 4412,\n",
              " 'royal': 5432,\n",
              " 'visit': 6790,\n",
              " '1st': 324,\n",
              " 'june': 3618,\n",
              " 'ugh': 6611,\n",
              " 'long': 3917,\n",
              " 'day': 2054,\n",
              " 'exhausted': 2523,\n",
              " 'want': 6858,\n",
              " 'cuddle': 1984,\n",
              " 'nap': 4381,\n",
              " 'awesome': 1103,\n",
              " 'time': 6418,\n",
              " 'like': 3840,\n",
              " 'lt': 3974,\n",
              " 'gt': 3044,\n",
              " 'll': 3887,\n",
              " 'details': 2143,\n",
              " 'wee': 6917,\n",
              " 'bit': 1277,\n",
              " 'ok': 4578,\n",
              " 'lor': 3932,\n",
              " 'thk': 6376,\n",
              " 'tickets': 6407,\n",
              " 'cos': 1901,\n",
              " 'quite': 5149,\n",
              " 'late': 3760,\n",
              " 'look': 3921,\n",
              " 'ur': 6685,\n",
              " 'frens': 2791,\n",
              " 'darren': 2041,\n",
              " 'dont': 2269,\n",
              " 'know': 3700,\n",
              " 'bring': 1414,\n",
              " 'food': 2730,\n",
              " 'reason': 5224,\n",
              " 've': 6745,\n",
              " 'spoken': 5948,\n",
              " 'year': 7151,\n",
              " 'anyways': 947,\n",
              " 'great': 3020,\n",
              " 'week': 6919,\n",
              " 'best': 1237,\n",
              " 'exam': 2511,\n",
              " 'make': 4042,\n",
              " 'fucks': 2825,\n",
              " 'sake': 5476,\n",
              " 'yes': 7161,\n",
              " 'place': 4862,\n",
              " 'town': 6504,\n",
              " 'meet': 4130,\n",
              " 'exciting': 2515,\n",
              " 'adult': 806,\n",
              " 'singles': 5739,\n",
              " 'txt': 6590,\n",
              " '86688': 664,\n",
              " '150p': 293,\n",
              " 'msg': 4315,\n",
              " 'man': 4052,\n",
              " 'print': 5035,\n",
              " 'outs': 4660,\n",
              " 'room': 5418,\n",
              " 'think': 6368,\n",
              " 'saying': 5517,\n",
              " 'clearly': 1734,\n",
              " 'leave': 3793,\n",
              " 'come': 1794,\n",
              " 'st': 5972,\n",
              " 'andre': 912,\n",
              " 'virgil': 6784,\n",
              " 'cream': 1947,\n",
              " 'yoyyooo': 7180,\n",
              " 'change': 1623,\n",
              " 'permissions': 4789,\n",
              " 'drive': 2313,\n",
              " 'mac': 4013,\n",
              " 'usb': 6700,\n",
              " 'flash': 2692,\n",
              " 'sunshine': 6148,\n",
              " 'quiz': 5151,\n",
              " 'wkly': 7025,\n",
              " 'win': 6988,\n",
              " 'sony': 5865,\n",
              " 'dvd': 2350,\n",
              " 'player': 4875,\n",
              " 'country': 1914,\n",
              " 'algarve': 875,\n",
              " 'ansr': 927,\n",
              " '82277': 637,\n",
              " '50': 520,\n",
              " 'sp': 5898,\n",
              " 'tyrone': 6606,\n",
              " 'dear': 2066,\n",
              " 'th': 6333,\n",
              " 'birthday': 1275,\n",
              " 'loving': 3963,\n",
              " 'gopalettan': 2984,\n",
              " 'planning': 4871,\n",
              " 'small': 5796,\n",
              " 'gift': 2921,\n",
              " 'participate': 4724,\n",
              " 'welcome': 6934,\n",
              " 'contact': 1863,\n",
              " 'admin': 793,\n",
              " 'team': 6274,\n",
              " 'class': 1724,\n",
              " 'hours': 3282,\n",
              " 'sorry': 5877,\n",
              " 'okay': 4579,\n",
              " 'wait': 6835,\n",
              " 'rushing': 5458,\n",
              " 'school': 5527,\n",
              " 'rush': 5457,\n",
              " 'hungry': 3314,\n",
              " 'usually': 6713,\n",
              " 'stops': 6044,\n",
              " 'hella': 3177,\n",
              " 'weed': 6918,\n",
              " 'smoke': 5811,\n",
              " 'awarded': 1101,\n",
              " 'city': 1715,\n",
              " 'break': 1396,\n",
              " '200': 335,\n",
              " 'summer': 6139,\n",
              " 'shopping': 5681,\n",
              " 'spree': 5961,\n",
              " 'wk': 7021,\n",
              " 'store': 6046,\n",
              " '88039': 675,\n",
              " 'skilgme': 5759,\n",
              " 'tscs087147403231winawk': 6562,\n",
              " 'age16': 832,\n",
              " '50perwksub': 528,\n",
              " 'shall': 5635,\n",
              " 'pickle': 4836,\n",
              " 'isn': 3506,\n",
              " 'frnd': 2809,\n",
              " 'necesity': 4407,\n",
              " 'life': 3830,\n",
              " 'imagine': 3376,\n",
              " 'urself': 6698,\n",
              " 'witout': 7018,\n",
              " 'hw': 3328,\n",
              " 'feel': 2620,\n",
              " 'colleg': 1786,\n",
              " 'wth': 7103,\n",
              " 'cell': 1605,\n",
              " 'abt': 742,\n",
              " 'functions': 2833,\n",
              " 'thnk': 6378,\n",
              " 'events': 2491,\n",
              " 'espe': 2474,\n",
              " 'cared': 1553,\n",
              " 'missed': 4215,\n",
              " 'amp': 903,\n",
              " 'irritated': 3496,\n",
              " '4wrd': 517,\n",
              " 'frnds': 2810,\n",
              " 'wthout': 7104,\n",
              " 'live': 3880,\n",
              " 'jst': 3605,\n",
              " 'takecare': 6228,\n",
              " 'goodmorning': 2977,\n",
              " 'brum': 1437,\n",
              " 'thanks': 6337,\n",
              " 'putting': 5126,\n",
              " 'keeping': 3651,\n",
              " 'happy': 3120,\n",
              " 'soon': 5868,\n",
              " 'im': 3373,\n",
              " 'tellmiss': 6291,\n",
              " 'way': 6892,\n",
              " 'bloomberg': 1310,\n",
              " 'message': 4163,\n",
              " 'center': 1607,\n",
              " '447797706009': 482,\n",
              " 'apply': 969,\n",
              " 'future': 2842,\n",
              " 'http': 3298,\n",
              " 'careers': 1555,\n",
              " 'com': 1791,\n",
              " 'enjoy': 2435,\n",
              " 'plural': 4892,\n",
              " 'noun': 4515,\n",
              " 'research': 5331,\n",
              " 'sure': 6165,\n",
              " 'checking': 1656,\n",
              " 'happening': 3114,\n",
              " 'area': 991,\n",
              " 'aight': 850,\n",
              " 'sleeping': 5774,\n",
              " 'surfing': 6168,\n",
              " 'cool': 1888,\n",
              " 'breeze': 1406,\n",
              " 'bright': 1410,\n",
              " 'sun': 6142,\n",
              " 'fresh': 2793,\n",
              " 'flower': 2711,\n",
              " 'twittering': 6588,\n",
              " 'birds': 1270,\n",
              " 'waiting': 6838,\n",
              " 'wish': 7007,\n",
              " 'ringtone': 5389,\n",
              " 'order': 4630,\n",
              " 'reference': 5261,\n",
              " 'number': 4526,\n",
              " 'x49': 7115,\n",
              " 'mobile': 4246,\n",
              " 'charged': 1633,\n",
              " 'tone': 6470,\n",
              " 'arrive': 1016,\n",
              " 'customer': 2002,\n",
              " 'services': 5609,\n",
              " '09065989182': 214,\n",
              " 'colour': 1789,\n",
              " 'red': 5257,\n",
              " 'txtstar': 6598,\n",
              " 'does': 2245,\n",
              " 'uncle': 6627,\n",
              " 'timi': 6420,\n",
              " 'clearing': 1733,\n",
              " 'cars': 1569,\n",
              " 'getting': 2914,\n",
              " 'really': 5219,\n",
              " 'bad': 1128,\n",
              " 'totally': 6498,\n",
              " 'rejected': 5281,\n",
              " 'kinda': 3682,\n",
              " 'thing': 6366,\n",
              " 'sent': 5598,\n",
              " 'prices': 5028,\n",
              " 'mean': 4116,\n",
              " 'hi': 3202,\n",
              " 'darlin': 2038,\n",
              " 'london': 3914,\n",
              " 'smashed': 5801,\n",
              " 'driver': 2314,\n",
              " 'big': 1257,\n",
              " 'dent': 2118,\n",
              " 'missing': 4217,\n",
              " 'took': 6479,\n",
              " 'tablets': 6217,\n",
              " 'reaction': 5205,\n",
              " 'morning': 4289,\n",
              " 'going': 2959,\n",
              " 'intention': 3459,\n",
              " 'run': 5453,\n",
              " 'choose': 1700,\n",
              " 'clean': 1728,\n",
              " 'don': 2266,\n",
              " 'say': 5516,\n",
              " 'visitors': 6792,\n",
              " 'maybe': 4111,\n",
              " 'choice': 1698,\n",
              " 'wanted': 6860,\n",
              " 'embarassed': 2413,\n",
              " 'friend': 2800,\n",
              " 'wants': 6862,\n",
              " 'drop': 2319,\n",
              " 'buy': 1483,\n",
              " 'happened': 3113,\n",
              " 'tried': 6537,\n",
              " 'picking': 4835,\n",
              " 'various': 6736,\n",
              " 'points': 4914,\n",
              " 'yeovil': 7158,\n",
              " 'motor': 4298,\n",
              " 'project': 5064,\n",
              " '12': 266,\n",
              " '30': 412,\n",
              " 'max': 4106,\n",
              " 'easy': 2368,\n",
              " 'test': 6316,\n",
              " 'rd': 5199,\n",
              " 'fret': 2794,\n",
              " 'ovulation': 4673,\n",
              " 'strips': 6066,\n",
              " 'wont': 7049,\n",
              " 'til': 6416,\n",
              " 'march': 4072,\n",
              " 'postal': 4953,\n",
              " 'address': 790,\n",
              " 'alright': 887,\n",
              " 'loyalty': 3970,\n",
              " 'offer': 4560,\n",
              " 'nokia6650': 4485,\n",
              " '10': 244,\n",
              " 'txtauction': 6593,\n",
              " 'word': 7057,\n",
              " 'start': 5993,\n",
              " '81151': 632,\n",
              " '4t': 511,\n",
              " 'ctxt': 1982,\n",
              " 'tc': 6266,\n",
              " 'mtmsg': 4325,\n",
              " 'remember': 5295,\n",
              " 'alex': 873,\n",
              " 'pizza': 4860,\n",
              " 'av': 1084,\n",
              " 'wil': 6983,\n",
              " 'use': 6702,\n",
              " 'ta': 6214,\n",
              " 'urgent': 6689,\n",
              " 'trying': 6558,\n",
              " 'todays': 6454,\n",
              " 'draw': 2301,\n",
              " 'shows': 5701,\n",
              " '800': 617,\n",
              " 'prize': 5043,\n",
              " 'guaranteed': 3048,\n",
              " '09050001808': 158,\n",
              " 'land': 3740,\n",
              " 'claim': 1718,\n",
              " 'm95': 4008,\n",
              " 'valid12hrs': 6728,\n",
              " 'babe': 1119,\n",
              " 'lost': 3939,\n",
              " 'painful': 4690,\n",
              " 'personal': 4795,\n",
              " 'thought': 6384,\n",
              " 'try': 6556,\n",
              " 'everybody': 2492,\n",
              " 'recognises': 5250,\n",
              " 'subscribed': 6105,\n",
              " 'service': 5608,\n",
              " 'days': 2055,\n",
              " '82324': 638,\n",
              " 'helpline': 3185,\n",
              " '08706091795': 83,\n",
              " 'basket': 1164,\n",
              " 'mum': 4336,\n",
              " 'messages': 4165,\n",
              " 'got': 2988,\n",
              " 'actually': 781,\n",
              " 'rest': 5351,\n",
              " 'january': 3541,\n",
              " 'male': 4049,\n",
              " 'sale': 5480,\n",
              " 'hot': 3276,\n",
              " 'gay': 2877,\n",
              " 'cheaper': 1649,\n",
              " '08709222922': 88,\n",
              " 'national': 4391,\n",
              " 'rate': 5187,\n",
              " '5p': 548,\n",
              " 'min': 4187,\n",
              " 'cheap': 1648,\n",
              " '8p': 695,\n",
              " 'peak': 4765,\n",
              " 'texts': 6331,\n",
              " '08712460324': 108,\n",
              " '10p': 254,\n",
              " 'honesty': 3249,\n",
              " 'road': 5399,\n",
              " 'bank': 1146,\n",
              " 'tomorrow': 6469,\n",
              " 'tough': 6502,\n",
              " 'decisions': 2080,\n",
              " 'people': 4776,\n",
              " 'womdarfull': 7040,\n",
              " 'actor': 779,\n",
              " 'congrats': 1847,\n",
              " 'special': 5910,\n",
              " 'cinema': 1713,\n",
              " 'pass': 4731,\n",
              " '09061209465': 180,\n",
              " 'suprman': 6163,\n",
              " 'matrix3': 4101,\n",
              " 'starwars3': 5997,\n",
              " 'bx420': 1493,\n",
              " 'ip4': 3484,\n",
              " '5we': 552,\n",
              " '150pm': 295,\n",
              " 'miss': 4213,\n",
              " 'movie': 4304,\n",
              " 'juz': 3626,\n",
              " 'minute': 4202,\n",
              " 'decision': 2079,\n",
              " 'mah': 4031,\n",
              " 'watch': 6878,\n",
              " 'lar': 3751,\n",
              " 'tot': 6496,\n",
              " 'interested': 3460,\n",
              " 'care': 1551,\n",
              " 'sweet': 6191,\n",
              " 'dreams': 2305,\n",
              " 'ummifying': 6621,\n",
              " 'bye': 1495,\n",
              " 'gud': 3050,\n",
              " 'ni8': 4451,\n",
              " 'slp': 5794,\n",
              " 'swt': 6203,\n",
              " 'muah': 4330,\n",
              " 'youdoing': 7173,\n",
              " 'later': 3762,\n",
              " 'sar': 5495,\n",
              " 'money': 4270,\n",
              " '09050000460': 153,\n",
              " 'j89': 3526,\n",
              " 'po': 4897,\n",
              " 'box245c2150pm': 1364,\n",
              " 'issue': 3508,\n",
              " 'weigh': 6925,\n",
              " 'breathe': 1403,\n",
              " 'easier': 2363,\n",
              " 'regret': 5278,\n",
              " 'gr8': 3000,\n",
              " 'leaving': 3795,\n",
              " 'plans': 4872,\n",
              " 'havent': 3142,\n",
              " 'sir': 5742,\n",
              " 'group': 3034,\n",
              " 'mail': 4034,\n",
              " 'check': 1653,\n",
              " 'hit': 3216,\n",
              " 'cash': 1573,\n",
              " 'girl': 2928,\n",
              " '2004': 338,\n",
              " 'account': 760,\n",
              " 'statement': 5998,\n",
              " '07742676969': 27,\n",
              " '786': 608,\n",
              " 'unredeemed': 6662,\n",
              " 'bonus': 1332,\n",
              " '08719180248': 144,\n",
              " 'identifier': 3355,\n",
              " 'code': 1770,\n",
              " '45239': 489,\n",
              " 'expires': 2538,\n",
              " 'mins': 4200,\n",
              " 'busy': 1479,\n",
              " 'finish': 2670,\n",
              " 'looking': 3924,\n",
              " 'forward': 2761,\n",
              " 'finally': 2663,\n",
              " 'meeting': 4132,\n",
              " 'hmv': 3230,\n",
              " '500': 521,\n",
              " 'pounds': 4965,\n",
              " 'genuine': 2901,\n",
              " 'vouchers': 6809,\n",
              " 'answer': 928,\n",
              " 'questions': 5144,\n",
              " 'play': 4873,\n",
              " 'info': 3425,\n",
              " 'www': 7111,\n",
              " '100percent': 249,\n",
              " 'real': 5210,\n",
              " 'accidentally': 754,\n",
              " 'left': 3798,\n",
              " 'silent': 5726,\n",
              " 'night': 4460,\n",
              " 'didn': 2170,\n",
              " 'ya': 7135,\n",
              " 'tht': 6398,\n",
              " 'incident': 3399,\n",
              " 'good': 2972,\n",
              " 'problem': 5047,\n",
              " 'little': 3879,\n",
              " 'experience': 2534,\n",
              " 'understand': 6634,\n",
              " 'american': 895,\n",
              " 'voice': 6800,\n",
              " 'used': 6703,\n",
              " 'agents': 836,\n",
              " 'booked': 1336,\n",
              " 'things': 6367,\n",
              " 'boston': 1350,\n",
              " 'nyc': 4539,\n",
              " 'experiment': 2535,\n",
              " 'online': 4599,\n",
              " 'transaction': 6515,\n",
              " 'came': 1526,\n",
              " 'hostel': 3274,\n",
              " 'sleep': 5772,\n",
              " 'plz': 4895,\n",
              " 'hrishi': 3295,\n",
              " 'fuuuuck': 2843,\n",
              " 'sleepin': 5773,\n",
              " 'sup': 6150,\n",
              " 'dude': 2337,\n",
              " 'makin': 4045,\n",
              " 'weirdy': 6932,\n",
              " 'brownies': 1433,\n",
              " 'cookies': 1886,\n",
              " 'secret': 5560,\n",
              " 'admirer': 795,\n",
              " 'reveal': 5368,\n",
              " 'thinks': 6372,\n",
              " '09058094599': 175,\n",
              " 'oh': 4573,\n",
              " 'training': 6512,\n",
              " 'manual': 4066,\n",
              " 'tech': 6279,\n",
              " 'process': 5053,\n",
              " 'password': 4737,\n",
              " 'reset': 5337,\n",
              " 'troubleshooting': 6544,\n",
              " 'computerless': 1831,\n",
              " 'oreo': 4633,\n",
              " 'truffles': 6550,\n",
              " 'watching': 6881,\n",
              " 'tv': 6582,\n",
              " 'job': 3580,\n",
              " 'hoping': 3264,\n",
              " 'game': 2858,\n",
              " 'yesterday': 7163,\n",
              " 'touch': 6500,\n",
              " 'pls': 4888,\n",
              " 'fondly': 2725,\n",
              " 'bein': 1220,\n",
              " 'thot': 6382,\n",
              " 'abiola': 732,\n",
              " 'nite': 4470,\n",
              " 'pocay': 4907,\n",
              " 'wocay': 7036,\n",
              " '4eva': 502,\n",
              " 'promise': 5068,\n",
              " 'ring': 5387,\n",
              " '2morrowxxxx': 393,\n",
              " 'yup': 7190,\n",
              " 'thanx': 6342,\n",
              " 'reply': 5321,\n",
              " 'pick': 4833,\n",
              " 'heart': 3162,\n",
              " 'mind': 4190,\n",
              " 'wisdom': 7005,\n",
              " 'eyes': 2555,\n",
              " 'alwys': 891,\n",
              " 'panren': 4700,\n",
              " 'paru': 4729,\n",
              " 'wife': 6979,\n",
              " 'relax': 5286,\n",
              " 'wkend': 7022,\n",
              " 'fun': 2831,\n",
              " 'truly': 6551,\n",
              " 'forget': 2746,\n",
              " 'gbp': 2881,\n",
              " 'sms': 5817,\n",
              " 'approve': 975,\n",
              " 'panalam': 4695,\n",
              " 'posts': 4959,\n",
              " 'paid': 4688,\n",
              " 'commercial': 1804,\n",
              " 'hasbro': 3129,\n",
              " 'august': 1075,\n",
              " 'jump': 3616,\n",
              " 'hoops': 3258,\n",
              " 'shut': 5711,\n",
              " 'omg': 4592,\n",
              " 'dream': 2304,\n",
              " 'kids': 3673,\n",
              " 'boys': 1381,\n",
              " 'pissed': 4855,\n",
              " 'told': 6460,\n",
              " 'mark': 4076,\n",
              " 'changing': 1626,\n",
              " 'diapers': 2164,\n",
              " 'cause': 1588,\n",
              " 'owed': 4676,\n",
              " 'face': 2559,\n",
              " 'ey': 2553,\n",
              " 'calm': 1523,\n",
              " 'downon': 2292,\n",
              " 'theacusations': 6347,\n",
              " 'itxt': 3517,\n",
              " 'iwana': 3520,\n",
              " 'wotu': 7078,\n",
              " 'doin': 2257,\n",
              " 'thew': 6362,\n",
              " 'end': 2422,\n",
              " 'haventcn': 3143,\n",
              " 'ages': 837,\n",
              " 'up4': 6670,\n",
              " 'nething': 4432,\n",
              " 'sat': 5502,\n",
              " 'dramatic': 2299,\n",
              " 'schools': 5528,\n",
              " 'closed': 1742,\n",
              " 'apparently': 961,\n",
              " 'inch': 3397,\n",
              " 'snow': 5832,\n",
              " 'supposed': 6161,\n",
              " 'woke': 7037,\n",
              " 'blur': 1319,\n",
              " 'went': 6941,\n",
              " 'liao': 3821,\n",
              " 'oso': 4645,\n",
              " 'helloooo': 3179,\n",
              " 'wake': 6839,\n",
              " 'welcomes': 6935,\n",
              " 'joy': 3600,\n",
              " 'mrng': 4312,\n",
              " 'jason': 3546,\n",
              " 'says': 5518,\n",
              " 'gonna': 2970,\n",
              " 'mallika': 4051,\n",
              " 'sherawat': 5652,\n",
              " 'url': 6695,\n",
              " 'wa': 6824,\n",
              " 'openin': 4608,\n",
              " 'sentence': 5599,\n",
              " 'formal': 2753,\n",
              " 'fine': 2667,\n",
              " 'tt': 6565,\n",
              " 'eatin': 2371,\n",
              " 'puttin': 5125,\n",
              " 'weight': 6927,\n",
              " 'anythin': 944,\n",
              " 'tyler': 6602,\n",
              " 'minor': 4199,\n",
              " 'crisis': 1960,\n",
              " 'sooner': 5869,\n",
              " 'asap': 1024,\n",
              " 'erm': 2460,\n",
              " 'ill': 3369,\n",
              " '45pm': 490,\n",
              " 'park': 4720,\n",
              " 'treat': 6529,\n",
              " 'pending': 4773,\n",
              " 'respect': 5343,\n",
              " 'mother': 4293,\n",
              " 'mails': 4037,\n",
              " 'alrite': 888,\n",
              " 'hunny': 3316,\n",
              " 'wot': 7077,\n",
              " '2nite': 398,\n",
              " 'didnt': 2171,\n",
              " 'goin': 2958,\n",
              " 'jus': 3622,\n",
              " 'pub': 5101,\n",
              " 'instead': 3453,\n",
              " 'chillin': 1686,\n",
              " 'mo': 4242,\n",
              " 'bedroom': 1206,\n",
              " 'jen': 3559,\n",
              " 'aiyo': 860,\n",
              " 'meh': 4137,\n",
              " 'princess': 5034,\n",
              " 'times': 6419,\n",
              " 'thats': 6346,\n",
              " 'ew': 2507,\n",
              " 'friendship': 2803,\n",
              " 'poem': 4911,\n",
              " 'near': 4405,\n",
              " 'hear': 3158,\n",
              " 'fear': 2613,\n",
              " 'cheer': 1660,\n",
              " 'tear': 6275,\n",
              " 'added': 786,\n",
              " 'list': 3868,\n",
              " 'fullonsms': 2829,\n",
              " 'ignoring': 3363,\n",
              " 'dating': 2049,\n",
              " 'started': 5994,\n",
              " 'sport': 5954,\n",
              " 'radio': 5160,\n",
              " 'connection': 1851,\n",
              " 'coincidence': 1774,\n",
              " 'hook': 3257,\n",
              " 'means': 4120,\n",
              " 'right': 5383,\n",
              " 'valuable': 6729,\n",
              " 'situations': 5752,\n",
              " 'second': 5557,\n",
              " 'loosing': 3930,\n",
              " 'si': 5713,\n",
              " 'como': 1808,\n",
              " 'listened2the': 3871,\n",
              " 'plaid': 4866,\n",
              " 'album': 867,\n",
              " 'gd': 2884,\n",
              " 'air1': 854,\n",
              " 'hilarious': 3207,\n",
              " 'bought': 1354,\n",
              " 'braindance': 1386,\n",
              " 'comp': 1809,\n",
              " 'ofstuff': 4570,\n",
              " 'aphex': 953,\n",
              " 'abel': 728,\n",
              " 'hav2hear': 3139,\n",
              " 'xxxx': 7130,\n",
              " 'wana': 6855,\n",
              " 'praps': 4988,\n",
              " 'meant': 4121,\n",
              " 'goodo': 2981,\n",
              " 'stay': 6001,\n",
              " 'england': 2433,\n",
              " 'official': 4566,\n",
              " 'poly': 4918,\n",
              " 'flag': 2688,\n",
              " 'yer': 7160,\n",
              " '84199': 653,\n",
              " 'opt': 4618,\n",
              " 'eng': 2430,\n",
              " 'box39822': 1369,\n",
              " 'w111wx': 6815,\n",
              " 'honeybee': 3251,\n",
              " 'said': 5475,\n",
              " 'sweetest': 6192,\n",
              " 'world': 7066,\n",
              " 'god': 2954,\n",
              " 'laughed': 3767,\n",
              " 'havnt': 3147,\n",
              " 'met': 4170,\n",
              " 'person': 4794,\n",
              " 'reading': 5208,\n",
              " 'moral': 4285,\n",
              " 'crack': 1934,\n",
              " 'jokes': 3590,\n",
              " 'gm': 2943,\n",
              " 'gn': 2945,\n",
              " 'ge': 2886,\n",
              " 'study': 6082,\n",
              " 'tap': 6247,\n",
              " 'spile': 5931,\n",
              " 'seven': 5616,\n",
              " 'gas': 2870,\n",
              " 'broad': 1422,\n",
              " 'canal': 1530,\n",
              " 'wan2': 6854,\n",
              " 'greet': 3023,\n",
              " 'westlife': 6951,\n",
              " 'm8': 4006,\n",
              " 'currently': 1997,\n",
              " 'tour': 6503,\n",
              " 'unbreakable': 6626,\n",
              " 'untamed': 6668,\n",
              " 'unkempt': 6653,\n",
              " '83049': 640,\n",
              " 'cost': 1903,\n",
              " '50p': 526,\n",
              " 'std': 6006,\n",
              " 'drunk': 2326,\n",
              " 'motherfucker': 4294,\n",
              " 'textbuddy': 6324,\n",
              " 'horny': 3266,\n",
              " 'guys': 3068,\n",
              " '25p': 362,\n",
              " 'receive': 5237,\n",
              " 'search': 5552,\n",
              " 'postcode': 4955,\n",
              " 'gaytextbuddy': 2880,\n",
              " '89693': 690,\n",
              " '08715500022': 122,\n",
              " 'rpl': 5434,\n",
              " 'cnl': 1759,\n",
              " 'hiya': 3220,\n",
              " 'weekend': 6921,\n",
              " 'usual': 6712,\n",
              " 'ard': 990,\n",
              " 'smth': 5821,\n",
              " 'doc': 2239,\n",
              " 'gave': 2876,\n",
              " 'pain': 4689,\n",
              " 'meds': 4128,\n",
              " 'mahal': 4032,\n",
              " 'bus': 1473,\n",
              " 'decimal': 2078,\n",
              " 'cooking': 1887,\n",
              " 'oops': 4604,\n",
              " 'tomo': 6467,\n",
              " 'station': 5999,\n",
              " 'dhoni': 2157,\n",
              " 'luck': 3978,\n",
              " 'title': 6433,\n",
              " 'waking': 6840,\n",
              " 'afternoon': 828,\n",
              " 'church': 1710,\n",
              " 'holla': 3240,\n",
              " 'let': 3815,\n",
              " 'salad': 5477,\n",
              " 'desert': 2132,\n",
              " 'beers': 1210,\n",
              " 'news': 4447,\n",
              " 'freefone': 2784,\n",
              " '08006344447': 56,\n",
              " '1000': 246,\n",
              " '2000': 336,\n",
              " 'speak': 5908,\n",
              " 'operator': 4612,\n",
              " 'hr': 3294,\n",
              " 'trip': 6538,\n",
              " 'audition': 1072,\n",
              " 'wednesday': 6915,\n",
              " 'whats': 6956,\n",
              " 'printed': 5036,\n",
              " 'upstairs': 6683,\n",
              " 'wasnt': 6873,\n",
              " 'phoned': 4821,\n",
              " 'voda': 6797,\n",
              " 'numbers': 4527,\n",
              " 'ending': 2424,\n",
              " '1225': 270,\n",
              " 'selected': 5579,\n",
              " '50award': 523,\n",
              " 'match': 4094,\n",
              " '08712300220': 95,\n",
              " 'quoting': 5155,\n",
              " '3100': 424,\n",
              " 'standard': 5984,\n",
              " 'rates': 5188,\n",
              " 'app': 960,\n",
              " 'today': 6453,\n",
              " 'accept': 749,\n",
              " 'brother': 1429,\n",
              " 'lover': 3958,\n",
              " 'dear1': 2067,\n",
              " 'best1': 1238,\n",
              " 'clos1': 1740,\n",
              " 'lvblefrnd': 3993,\n",
              " 'jstfrnd': 3606,\n",
              " 'cutefrnd': 2007,\n",
              " 'lifpartnr': 3833,\n",
              " 'belovd': 1228,\n",
              " 'swtheart': 6204,\n",
              " 'bstfrnd': 1442,\n",
              " 'rply': 5435,\n",
              " 'enemy': 2428,\n",
              " 'bloo': 1307,\n",
              " 'bowl': 1358,\n",
              " 'urgnt': 6692,\n",
              " 'wating': 6886,\n",
              " 'difficult': 2181,\n",
              " 'girls': 2931,\n",
              " 'companion': 1811,\n",
              " 'chef': 1666,\n",
              " 'listener': 3872,\n",
              " 'organizer': 4636,\n",
              " 'boyfriend': 1380,\n",
              " 'sympathetic': 6207,\n",
              " 'athletic': 1054,\n",
              " 'warm': 6865,\n",
              " 'courageous': 1919,\n",
              " 'determined': 2145,\n",
              " 'true': 6548,\n",
              " 'dependable': 2125,\n",
              " 'intelligent': 3457,\n",
              " 'psychologist': 5098,\n",
              " 'pest': 4802,\n",
              " 'exterminator': 2550,\n",
              " 'psychiatrist': 5096,\n",
              " 'healer': 3156,\n",
              " 'stylist': 6094,\n",
              " 'aaniye': 722,\n",
              " 'pudunga': 5105,\n",
              " 'venaam': 6750,\n",
              " 'request': 5326,\n",
              " 'maangalyam': 4011,\n",
              " 'alaipayuthe': 866,\n",
              " 'set': 5611,\n",
              " 'callertune': 1516,\n",
              " 'callers': 1515,\n",
              " 'press': 5017,\n",
              " 'copy': 1893,\n",
              " 'friends': 2801,\n",
              " 'tirunelvai': 6428,\n",
              " 'lick': 3825,\n",
              " 'pussy': 5123,\n",
              " 'inside': 3447,\n",
              " 'office': 4564,\n",
              " 'filling': 2654,\n",
              " 'forms': 2757,\n",
              " 'textin': 6327,\n",
              " 'bout': 1356,\n",
              " 'worries': 7070,\n",
              " 'photo': 4824,\n",
              " 'shoot': 5678,\n",
              " ...}"
            ]
          },
          "metadata": {},
          "execution_count": 235
        }
      ],
      "source": [
        "# printing the vocabulary\n",
        "vect.vocabulary_"
      ]
    },
    {
      "cell_type": "code",
      "execution_count": null,
      "metadata": {
        "colab": {
          "base_uri": "https://localhost:8080/"
        },
        "id": "uiCdtoMUdUFe",
        "outputId": "b17089a8-b20d-443b-97ab-c139e5b5add3"
      },
      "outputs": [
        {
          "output_type": "execute_result",
          "data": {
            "text/plain": [
              "7204"
            ]
          },
          "metadata": {},
          "execution_count": 236
        }
      ],
      "source": [
        "# vocab size\n",
        "len(vect.vocabulary_.keys())"
      ]
    },
    {
      "cell_type": "code",
      "source": [
        "# printing feature names\n",
        "print(vect.get_feature_names_out())\n",
        "print(len(vect.get_feature_names_out()))"
      ],
      "metadata": {
        "id": "LXhbN2lt6CeW",
        "outputId": "092b9760-093a-4d97-b67f-28ab28685389",
        "colab": {
          "base_uri": "https://localhost:8080/"
        }
      },
      "execution_count": null,
      "outputs": [
        {
          "output_type": "stream",
          "name": "stdout",
          "text": [
            "['00' '000' '008704050406' ... 'zouk' 'zyada' 'èn']\n",
            "7204\n"
          ]
        }
      ]
    },
    {
      "cell_type": "code",
      "execution_count": null,
      "metadata": {
        "id": "a80sLye2dUFf"
      },
      "outputs": [],
      "source": [
        "# transforming the train and test datasets\n",
        "X_train_transformed = vect.transform(X_train)\n",
        "# Transform testing data and return the matrix. Note we are not fitting the testing data into the CountVectorizer()\n",
        "X_test_transformed = vect.transform(X_test)"
      ]
    },
    {
      "cell_type": "markdown",
      "metadata": {
        "id": "womPL47EdUFf"
      },
      "source": [
        "### Building and Evaluating the Model"
      ]
    },
    {
      "cell_type": "markdown",
      "source": [
        "**Naive Bayes Implementation**\n",
        "\n",
        "We will be using sklearn's sklearn.naive_bayes method to make predictions on our SMS messages dataset.\n",
        "\n",
        "Specifically, we will be using the multinomial Naive Bayes algorithm. This particular classifier is suitable for classification with discrete features (such as in our case, word counts for text classification)"
      ],
      "metadata": {
        "id": "V4kxMUgE-IfK"
      }
    },
    {
      "cell_type": "markdown",
      "source": [
        "In the next step, we shall be incorporating the Naive Bayes Classifier and training it on the Train Data. Once trained, it will be used to predict the outputs from the test data set"
      ],
      "metadata": {
        "id": "ka3B48za_bzK"
      }
    },
    {
      "cell_type": "code",
      "execution_count": null,
      "metadata": {
        "id": "4eVSEXdodUFf"
      },
      "outputs": [],
      "source": [
        "# training the NB model and making predictions\n",
        "from sklearn.naive_bayes import MultinomialNB\n",
        "\n",
        "mnb_model = MultinomialNB()\n",
        "\n",
        "# fit\n",
        "mnb_model.fit(X_train_transformed,y_train)\n",
        "\n",
        "# predict class\n",
        "y_pred = mnb_model.predict(X_test_transformed)"
      ]
    },
    {
      "cell_type": "markdown",
      "metadata": {
        "id": "9JqvQoqOdUFf"
      },
      "source": [
        "### Model Evaluation"
      ]
    },
    {
      "cell_type": "markdown",
      "source": [],
      "metadata": {
        "id": "k-pkLYWDRjr3"
      }
    },
    {
      "cell_type": "code",
      "execution_count": null,
      "metadata": {
        "colab": {
          "base_uri": "https://localhost:8080/",
          "height": 452
        },
        "id": "LE5o0a2adUFf",
        "outputId": "039ee608-b408-4b24-a93d-78a01fcb4aad"
      },
      "outputs": [
        {
          "output_type": "execute_result",
          "data": {
            "text/plain": [
              "<Axes: >"
            ]
          },
          "metadata": {},
          "execution_count": 240
        },
        {
          "output_type": "display_data",
          "data": {
            "text/plain": [
              "<Figure size 640x480 with 2 Axes>"
            ],
            "image/png": "[encoded data removed]"
          },
          "metadata": {}
        }
      ],
      "source": [
        "# confusion matrix\n",
        "cm = confusion_matrix(y_test, y_pred)\n",
        "sns.heatmap(cm,cmap='BuPu',annot=True,fmt='d')"
      ]
    },
    {
      "cell_type": "markdown",
      "source": [
        "Observations:\n",
        "\n",
        "Its now time that we analyze the results:-\n",
        "\n",
        "* 1201 Non-Spam SMSs have been correctly classified\n",
        "* 175 Spam SMSs have been correctly classified\n",
        "* 7 Non-Spam SMSs have been classified as Spam SMSs (False Positives or Type I Error)\n",
        "* 10 Spam SMSs have been classified as Non-Spam (False Negatives or Type II Error)\n"
      ],
      "metadata": {
        "id": "7Qbtd8d7_9f-"
      }
    },
    {
      "cell_type": "code",
      "execution_count": null,
      "metadata": {
        "colab": {
          "base_uri": "https://localhost:8080/"
        },
        "id": "kk4ovLVDdUFg",
        "outputId": "fa6ee0f2-cd29-4e49-e5f3-4fe4ac9b3a3f"
      },
      "outputs": [
        {
          "output_type": "stream",
          "name": "stdout",
          "text": [
            "Accuracy score: 0.99\n",
            "Precision score: 0.96\n",
            "Recall score: 0.95\n",
            "F1 score: 0.95\n",
            "The area under the curve is: 0.97\n"
          ]
        }
      ],
      "source": [
        "from sklearn.metrics import accuracy_score, precision_score, recall_score, f1_score\n",
        "print('Accuracy score: {0:0.2f}'.format(accuracy_score(y_test, y_pred)))\n",
        "print('Precision score: {0:0.2f}'.format(precision_score(y_test, y_pred)))\n",
        "print('Recall score: {0:0.2f}'.format(recall_score(y_test, y_pred)))\n",
        "print('F1 score: {0:0.2f}'.format(f1_score(y_test, y_pred)))\n",
        "print('The area under the curve is: {0:0.2f}'.format(roc_auc_score(y_test, y_pred)))"
      ]
    },
    {
      "cell_type": "markdown",
      "source": [
        "## k-Fold Cross Validation"
      ],
      "metadata": {
        "id": "DKPflqxTr4uI"
      }
    },
    {
      "cell_type": "code",
      "source": [
        "# Applying 10-Fold Cross Validation\n",
        "\n",
        "from sklearn.model_selection import cross_val_score\n",
        "\n",
        "scores = cross_val_score(mnb_model, X_train_transformed, y_train, cv = 10, scoring='accuracy')\n",
        "print('Cross-validation scores:{}'.format(scores))"
      ],
      "metadata": {
        "colab": {
          "base_uri": "https://localhost:8080/"
        },
        "id": "m0LwqToYqdXf",
        "outputId": "e34d6a84-fd4e-4901-80e6-549beb1fb9c0"
      },
      "execution_count": null,
      "outputs": [
        {
          "output_type": "stream",
          "name": "stdout",
          "text": [
            "Cross-validation scores:[0.97129187 0.97368421 0.97368421 0.97368421 0.98086124 0.9784689\n",
            " 0.98325359 0.97368421 0.9784689  0.96882494]\n"
          ]
        }
      ]
    },
    {
      "cell_type": "code",
      "source": [
        "# compute Average cross-validation score\n",
        "print('Average cross-validation score: {:.4f}'.format(scores.mean()))"
      ],
      "metadata": {
        "colab": {
          "base_uri": "https://localhost:8080/"
        },
        "id": "CSeqgJlFqq3E",
        "outputId": "0eb181db-9cc6-4e5d-daf3-cead7aa80435"
      },
      "execution_count": null,
      "outputs": [
        {
          "output_type": "stream",
          "name": "stdout",
          "text": [
            "Average cross-validation score: 0.9756\n"
          ]
        }
      ]
    },
    {
      "cell_type": "code",
      "source": [
        "# calculate cross-validated ROC AUC\n",
        "\n",
        "from sklearn.model_selection import cross_val_score\n",
        "\n",
        "Cross_validated_ROC_AUC = cross_val_score(mnb_model, X_train_transformed, y_train, cv=5, scoring='roc_auc').mean()\n",
        "print('Cross validated ROC AUC : {:.4f}'.format(Cross_validated_ROC_AUC))"
      ],
      "metadata": {
        "colab": {
          "base_uri": "https://localhost:8080/"
        },
        "id": "pxc1sTNNqwbe",
        "outputId": "c535f3b5-7682-424d-e6cd-2ec1194c68ed"
      },
      "execution_count": null,
      "outputs": [
        {
          "output_type": "stream",
          "name": "stdout",
          "text": [
            "Cross validated ROC AUC : 0.9858\n"
          ]
        }
      ]
    },
    {
      "cell_type": "markdown",
      "source": [
        "#### Interpretation\n",
        "Using the mean cross-validation, we can conclude that we expect the model to be around 97% accurate on average.\n",
        "\n",
        "If we look at all the 10 scores produced by the 10-fold cross-validation, we can also conclude that there is a relatively small variance in the accuracy between folds, ranging from 96.88% accuracy to 98.32% accuracy. So, we can conclude that the model is independent of the particular folds used for training.\n",
        "\n",
        "Our original model accuracy is 0.99, but the mean cross-validation accuracy is 0.9858. So, the 10-fold cross-validation accuracy does not result in performance improvement for this model."
      ],
      "metadata": {
        "id": "S1vt-5NrMTZo"
      }
    },
    {
      "cell_type": "markdown",
      "source": [
        "## OPTIONAL - Evaluating Other models\n",
        "We're creating 3 different types of model for our SMS Classifier problem:\n",
        "\n",
        "* Bernoulli Naive Bayes (BernoulliNB)\n",
        "* Linear Support Vector Classification (LinearSVC)\n",
        "* Logistic Regression (LR)\n",
        "\n",
        "Since our dataset is not skewed, i.e. it has equal number of Positive and Negative Predictions. We're choosing Accuracy as our evaluation metric. Furthermore, we're plotting the Confusion Matrix to get an understanding of how our model is performing on both classification types."
      ],
      "metadata": {
        "id": "G0pmL_MMz_57"
      }
    },
    {
      "cell_type": "code",
      "source": [
        "def model_Evaluate(model):\n",
        "\n",
        "    # Predict values for Test dataset\n",
        "    y_pred = model.predict(X_test_transformed)\n",
        "\n",
        "    # Print the evaluation metrics for the dataset.\n",
        "    print(classification_report(y_test, y_pred))\n",
        "\n",
        "    # Compute and plot the Confusion matrix\n",
        "    cf_matrix = confusion_matrix(y_test, y_pred)\n",
        "\n",
        "    categories  = ['Negative','Positive']\n",
        "    group_names = ['True Negative','False Positive', 'False Negative','True Positive']\n",
        "    group_percentages = ['{0:.2%}'.format(value) for value in cf_matrix.flatten() / np.sum(cf_matrix)]\n",
        "\n",
        "    labels = [f'{v1}\\n{v2}' for v1, v2 in zip(group_names,group_percentages)]\n",
        "    labels = np.asarray(labels).reshape(2,2)\n",
        "\n",
        "    sns.heatmap(cf_matrix, annot = labels, cmap = 'Blues',fmt = '',\n",
        "                xticklabels = categories, yticklabels = categories)\n",
        "\n",
        "    plt.xlabel(\"Predicted values\", fontdict = {'size':14}, labelpad = 10)\n",
        "    plt.ylabel(\"Actual values\"   , fontdict = {'size':14}, labelpad = 10)\n",
        "    plt.title (\"Confusion Matrix\", fontdict = {'size':18}, pad = 20)\n",
        "    plt.show()\n",
        "    print('\\n')\n",
        "\n",
        "    roc_auc = roc_auc_score(y_test, y_pred)\n",
        "    print(\"The area under the curve is: %0.2f\"%roc_auc)\n",
        "    fpr, tpr, thresholds = roc_curve(y_test, y_pred) # ROC curve\n",
        "    #Setting the graph area\n",
        "    plt.figure()\n",
        "    plt.xlim([0.0, 1.0])\n",
        "    plt.ylim([0.0, 1.05])\n",
        "\n",
        "    #Plotting the worst line possiple\n",
        "    plt.plot([0, 1], [0, 1],'b--')\n",
        "\n",
        "    #Plotting the logistic regression we have built\n",
        "    plt.plot(fpr, tpr, color='darkorange', label= 'AUC= %0.2f' % roc_auc)\n",
        "\n",
        "    #Adding labels and etc\n",
        "    plt.xlabel('False Positive Rate')\n",
        "    plt.ylabel('True Positive Rate')\n",
        "    plt.title('ROC Curve')\n",
        "    plt.legend(loc=\"lower right\")\n",
        "    plt.savefig('Log_ROC')"
      ],
      "metadata": {
        "id": "Vn_LMjV8g9U9"
      },
      "execution_count": null,
      "outputs": []
    },
    {
      "cell_type": "markdown",
      "source": [
        "Classification report is a way to evaluate the classification model performance. It displays the precision, recall, f1 and support scores for the model. I have described these terms in later."
      ],
      "metadata": {
        "id": "UHUtojXXLd_z"
      }
    },
    {
      "cell_type": "markdown",
      "source": [
        "**BernoulliNB Model**"
      ],
      "metadata": {
        "id": "FM9pagYI1jJL"
      }
    },
    {
      "cell_type": "code",
      "source": [
        "bnb_model = BernoulliNB(alpha = 2)\n",
        "bnb_model.fit(X_train_transformed, y_train)\n",
        "model_Evaluate(bnb_model)"
      ],
      "metadata": {
        "colab": {
          "base_uri": "https://localhost:8080/",
          "height": 1000
        },
        "id": "ZzESzJX7jplX",
        "outputId": "8d6ad207-cc07-4544-89d0-accc6eb01861"
      },
      "execution_count": null,
      "outputs": [
        {
          "output_type": "stream",
          "name": "stdout",
          "text": [
            "              precision    recall  f1-score   support\n",
            "\n",
            "           0       0.94      1.00      0.97      1208\n",
            "           1       0.99      0.60      0.75       185\n",
            "\n",
            "    accuracy                           0.95      1393\n",
            "   macro avg       0.97      0.80      0.86      1393\n",
            "weighted avg       0.95      0.95      0.94      1393\n",
            "\n"
          ]
        },
        {
          "output_type": "display_data",
          "data": {
            "text/plain": [
              "<Figure size 640x480 with 2 Axes>"
            ],
            "image/png": "[encoded data removed]"
          },
          "metadata": {}
        },
        {
          "output_type": "stream",
          "name": "stdout",
          "text": [
            "\n",
            "\n",
            "The area under the curve is: 0.80\n"
          ]
        },
        {
          "output_type": "display_data",
          "data": {
            "text/plain": [
              "<Figure size 640x480 with 1 Axes>"
            ],
            "image/png": "[encoded data removed]"
          },
          "metadata": {}
        }
      ]
    },
    {
      "cell_type": "markdown",
      "source": [
        "**LinearSVC Model**"
      ],
      "metadata": {
        "id": "mV7iQRMa0iRF"
      }
    },
    {
      "cell_type": "code",
      "source": [
        "svc_model = LinearSVC()\n",
        "svc_model.fit(X_train_transformed, y_train)\n",
        "model_Evaluate(svc_model)"
      ],
      "metadata": {
        "colab": {
          "base_uri": "https://localhost:8080/",
          "height": 1000
        },
        "id": "b830qj3zkgwx",
        "outputId": "c706b9d5-01f6-4a51-d5ff-7af0e625f014"
      },
      "execution_count": null,
      "outputs": [
        {
          "output_type": "stream",
          "name": "stdout",
          "text": [
            "              precision    recall  f1-score   support\n",
            "\n",
            "           0       0.98      1.00      0.99      1208\n",
            "           1       0.99      0.89      0.93       185\n",
            "\n",
            "    accuracy                           0.98      1393\n",
            "   macro avg       0.99      0.94      0.96      1393\n",
            "weighted avg       0.98      0.98      0.98      1393\n",
            "\n"
          ]
        },
        {
          "output_type": "display_data",
          "data": {
            "text/plain": [
              "<Figure size 640x480 with 2 Axes>"
            ],
            "image/png": "[encoded data removed]"
          },
          "metadata": {}
        },
        {
          "output_type": "stream",
          "name": "stdout",
          "text": [
            "\n",
            "\n",
            "The area under the curve is: 0.94\n"
          ]
        },
        {
          "output_type": "display_data",
          "data": {
            "text/plain": [
              "<Figure size 640x480 with 1 Axes>"
            ],
            "image/png": "[encoded data removed]"
          },
          "metadata": {}
        }
      ]
    },
    {
      "cell_type": "markdown",
      "source": [
        "**Logistic Regression Model**"
      ],
      "metadata": {
        "id": "Xc5lu6SQ0n5x"
      }
    },
    {
      "cell_type": "code",
      "source": [
        "logistic_model = LogisticRegression(C = 2, max_iter = 1000, n_jobs=-1)\n",
        "logistic_model.fit(X_train_transformed, y_train)\n",
        "model_Evaluate(logistic_model)"
      ],
      "metadata": {
        "colab": {
          "base_uri": "https://localhost:8080/",
          "height": 1000
        },
        "id": "2p7RHdWchFUG",
        "outputId": "ffde7b60-b9d8-443d-c3a6-f6ec4b8e11e6"
      },
      "execution_count": null,
      "outputs": [
        {
          "output_type": "stream",
          "name": "stdout",
          "text": [
            "              precision    recall  f1-score   support\n",
            "\n",
            "           0       0.98      1.00      0.99      1208\n",
            "           1       0.99      0.88      0.93       185\n",
            "\n",
            "    accuracy                           0.98      1393\n",
            "   macro avg       0.98      0.94      0.96      1393\n",
            "weighted avg       0.98      0.98      0.98      1393\n",
            "\n"
          ]
        },
        {
          "output_type": "display_data",
          "data": {
            "text/plain": [
              "<Figure size 640x480 with 2 Axes>"
            ],
            "image/png": "[encoded data removed]"
          },
          "metadata": {}
        },
        {
          "output_type": "stream",
          "name": "stdout",
          "text": [
            "\n",
            "\n",
            "The area under the curve is: 0.94\n"
          ]
        },
        {
          "output_type": "display_data",
          "data": {
            "text/plain": [
              "<Figure size 640x480 with 1 Axes>"
            ],
            "image/png": "[encoded data removed]"
          },
          "metadata": {}
        }
      ]
    },
    {
      "cell_type": "markdown",
      "source": [
        "We can clearly see that the Logistic Regression Model performs the best out of all the different models that we tried. It achieves nearly 82% accuracy while classifying SMS as Spam or Ham.\n"
      ],
      "metadata": {
        "id": "k11bldXA1DIA"
      }
    }
  ],
  "metadata": {
    "anaconda-cloud": {},
    "kernelspec": {
      "display_name": "Python 3",
      "language": "python",
      "name": "python3"
    },
    "language_info": {
      "codemirror_mode": {
        "name": "ipython",
        "version": 3
      },
      "file_extension": ".py",
      "mimetype": "text/x-python",
      "name": "python",
      "nbconvert_exporter": "python",
      "pygments_lexer": "ipython3",
      "version": "3.5.6"
    },
    "colab": {
      "provenance": []
    }
  },
  "nbformat": 4,
  "nbformat_minor": 0
}